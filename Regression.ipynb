{
  "nbformat": 4,
  "nbformat_minor": 0,
  "metadata": {
    "colab": {
      "provenance": []
    },
    "kernelspec": {
      "name": "python3",
      "display_name": "Python 3"
    },
    "language_info": {
      "name": "python"
    }
  },
  "cells": [
    {
      "cell_type": "markdown",
      "source": [
        "1.What is Simple Linear Regression\n",
        "-  Simple Linear Regression (SLR) is the most basic form of regression analysis. It tries to model a straight-line relationship between:\n",
        "One independent variable x\n",
        "One dependent variable y"
      ],
      "metadata": {
        "id": "E-znP4Vr_buR"
      }
    },
    {
      "cell_type": "markdown",
      "source": [
        "2.What are the key assumptions of Simple Linear Regression\n",
        "- The key assumptions of Simple Linear Regression ensure that the model is valid and its results especially inferences like confidence intervals or hypothesis tests are reliable"
      ],
      "metadata": {
        "id": "p6leXVLc_x0G"
      }
    },
    {
      "cell_type": "markdown",
      "source": [
        "3.What does the coefficient m represent in the equation Y=mX+c\n",
        "- In the linear equation the coefficient m is called the slope of the line\n"
      ],
      "metadata": {
        "id": "Q1C2YToK_8U3"
      }
    },
    {
      "cell_type": "markdown",
      "source": [
        "4.What does the intercept c represent in the equation Y=mX+c\n",
        "- In the linear equation the coefficient c is called the intercept"
      ],
      "metadata": {
        "id": "vg6Tq-LVAsRd"
      }
    },
    {
      "cell_type": "markdown",
      "source": [
        "5.How do we calculate the slope m in Simple Linear Regression\n",
        "- In Simple Linear Regression, the slope m measure how much the depend variable y changes for a 1 unit change in the independent variable x\n"
      ],
      "metadata": {
        "id": "SsAZLqjuA8fZ"
      }
    },
    {
      "cell_type": "markdown",
      "source": [
        "6.What is the purpose of the least squares method in Simple Linear Regression\n",
        "- The purpose of the Least Squares Method in Simple Linear Regression is to find the best-fitting straight line through the data points by minimizing the total error between the predicted values and the actual values"
      ],
      "metadata": {
        "id": "9rTZvA_vBiG_"
      }
    },
    {
      "cell_type": "markdown",
      "source": [
        "7.How is the coefficient of determination (R²) interpreted in Simple Linear Regression\n",
        "- In Simple Linear Regression, the coefficient of determination r2 measures how well the regression line explains the variability in the dependent variable y\n"
      ],
      "metadata": {
        "id": "u72FdlM9Bp6a"
      }
    },
    {
      "cell_type": "markdown",
      "source": [
        "8.What is Multiple Linear Regression\n",
        "- Multiple Linear Regression (MLR) is an extension of Simple Linear Regression that models the relationship between one dependent variable and two or more independent variables\n"
      ],
      "metadata": {
        "id": "zX9drjFLB6gL"
      }
    },
    {
      "cell_type": "markdown",
      "source": [
        "9.What is the main difference between Simple and Multiple Linear Regression\n",
        "- The main difference between Simple Linear Regression and Multiple Linear Regression is the number of independent variables  used to predict the dependent variable"
      ],
      "metadata": {
        "id": "0fnn3YBWCDIf"
      }
    },
    {
      "cell_type": "markdown",
      "source": [
        "10.What are the key assumptions of Multiple Linear Regression\n",
        "- The key assumptions of Multiple Linear Regression extend those of Simple Linear Regression to handle multiple predictors. Ensuring these assumptions hold helps make sure the model is valid and the inference reliable"
      ],
      "metadata": {
        "id": "Mw4z9veACNHz"
      }
    },
    {
      "cell_type": "markdown",
      "source": [
        "11.What is heteroscedasticity, and how does it affect the results of a Multiple Linear Regression model\n",
        "- Heteroscedasticity means that the variance of the errors is not constant across all levels of the independent variables in a regression model\n"
      ],
      "metadata": {
        "id": "4jJSj6ScCUCy"
      }
    },
    {
      "cell_type": "markdown",
      "source": [
        "12.How can you improve a Multiple Linear Regression model with high multicollinearity\n",
        "- When a Multiple Linear Regression model suffers from high multicollinearity it can cause problems like unstable coefficient estimates and inflated standard errors. Here are several ways to improve the model in that situation"
      ],
      "metadata": {
        "id": "ThiPrEEqCkOA"
      }
    },
    {
      "cell_type": "markdown",
      "source": [
        "13.What are some common techniques for transforming categorical variables for use in regression models\n",
        "- When using categorical variables in regression models, you need to convert them into numerical form because regression algorithms work with numbers"
      ],
      "metadata": {
        "id": "EH6Qkk1dCyj5"
      }
    },
    {
      "cell_type": "markdown",
      "source": [
        "14.What is the role of interaction terms in Multiple Linear Regression\n",
        "- Interaction terms in Multiple Linear Regression allow the model to capture situations where the effect of one predictor variable on the target variable depends on another predictor variable"
      ],
      "metadata": {
        "id": "srQou59UC7zS"
      }
    },
    {
      "cell_type": "markdown",
      "source": [
        "15.How can the interpretation of intercept differ between Simple and Multiple Linear Regression\n",
        "- The intercept is the value of the target variable\n",
        "Y when all predictors are zero. But its interpretation changes depending on whether you're in a Simple or Multiple Linear Regression setting"
      ],
      "metadata": {
        "id": "ox1hSfAYDCUz"
      }
    },
    {
      "cell_type": "markdown",
      "source": [
        "16.What is the significance of the slope in regression analysis, and how does it affect predictions\n",
        "- In regression, the slope tells us how much the dependent variable (Y) changes for a one-unit change in the independent variable (X), assuming all other variables are constant"
      ],
      "metadata": {
        "id": "gcLWmhmFDT7H"
      }
    },
    {
      "cell_type": "markdown",
      "source": [
        "17.How does the intercept in a regression model provide context for the relationship between variables\n",
        "- The intercept in a regression model represents the predicted value of the dependent variable (Y) when all independent variables (X₁, X₂, …, Xₙ) are equal to zero and It provides a baseline or starting point for the prediction and helps to understand how the model behaves even when the predictors are absent"
      ],
      "metadata": {
        "id": "3BM6u-qsDdcc"
      }
    },
    {
      "cell_type": "markdown",
      "source": [
        "18.What are the limitations of using R² as a sole measure of model performance\n",
        "- The coefficient of determination r2 is a widely used metric in regression analysis to indicate how well the independent variables explain the variation in the dependent variable. However, relying on r2 alone can be misleading for several important reason1"
      ],
      "metadata": {
        "id": "02cG2D-ADtI0"
      }
    },
    {
      "cell_type": "markdown",
      "source": [
        "19.How would you interpret a large standard error for a regression coefficient\n",
        "- Standard error of a coefficient estimates how much the coefficient would vary if you repeated the regression on different samples from the same population\n",
        "- It's like the \"margin of error\" for the coefficient"
      ],
      "metadata": {
        "id": "f5uG6oG3ELYM"
      }
    },
    {
      "cell_type": "markdown",
      "source": [
        "20.How can heteroscedasticity be identified in residual plots, and why is it important to address it\n",
        "- Heteroscedasticity occurs when the variance of residuals (errors) is not constant across all levels of the independent variable\n",
        "- In a well-behaved regression model, residuals should have constant variance\n",
        "- If not, the model may be inefficient or misleading, even if r2 is high"
      ],
      "metadata": {
        "id": "nWXvTh63EcG-"
      }
    },
    {
      "cell_type": "markdown",
      "source": [
        "21.What does it mean if a Multiple Linear Regression model has a high R² but low adjusted R²\n",
        "- If a Multiple Linear Regression model has a high r2 but low Adjusted r2 it suggests a potential problem with overfitting or irrelevant variables in your model"
      ],
      "metadata": {
        "id": "W0YU5SdBEzL1"
      }
    },
    {
      "cell_type": "markdown",
      "source": [],
      "metadata": {
        "id": "JBtxIQaRFLCF"
      }
    },
    {
      "cell_type": "markdown",
      "source": [
        "22.Why is it important to scale variables in Multiple Linear Regression\n",
        "- In multiple linear regression, scaling (standardizing or normalizing) input features is not always strictly required for the model to work, but it is often crucial for"
      ],
      "metadata": {
        "id": "3yy5bibOFLFq"
      }
    },
    {
      "cell_type": "markdown",
      "source": [
        "23.What is polynomial regression\n",
        "- Polynomial regression is a type of regression analysis where the relationship between the independent variable\n",
        "X and the dependent variable\n",
        "Y is modeled as an nth-degree polynomial\n",
        "It extends linear regression by allowing for non-linear relationships between variables, while still using a linear model framework in terms of coefficients"
      ],
      "metadata": {
        "id": "-CEp9qGWFYY4"
      }
    },
    {
      "cell_type": "markdown",
      "source": [
        "24.How does polynomial regression differ from linear regression\n",
        "- Linear Regression is a statistical method that models the relationship between a dependent variable and one or more independent variables by fitting a straight line (linear function). The model assumes that the dependent variable changes linearly with the independent variable"
      ],
      "metadata": {
        "id": "8j_Tsz7dFpZA"
      }
    },
    {
      "cell_type": "markdown",
      "source": [
        "25.When is polynomial regression used\n",
        "- Polynomial regression is used when the relationship between the independent variable(s) and the dependent variable is non-linear and cannot be well-modeled by a simple straight line"
      ],
      "metadata": {
        "id": "QUoD3uA6F62m"
      }
    },
    {
      "cell_type": "markdown",
      "source": [
        "26.What is the general equation for polynomial regression\n",
        "- The general equation for polynomial regression of degree\n",
        "𝑛\n",
        "n is:\n",
        "\n",
        "𝑌\n",
        "=\n",
        "𝛽\n",
        "0\n",
        "+\n",
        "𝛽\n",
        "1\n",
        "𝑋\n",
        "+\n",
        "𝛽\n",
        "2\n",
        "𝑋\n",
        "2\n",
        "+\n",
        "𝛽\n",
        "3\n",
        "𝑋\n",
        "3\n",
        "+\n",
        "⋯\n",
        "+\n",
        "𝛽\n",
        "𝑛\n",
        "𝑋\n",
        "𝑛\n",
        "+\n",
        "𝜀\n",
        "Y=β\n",
        "0\n",
        "​\n",
        " +β\n",
        "1\n",
        "​\n",
        " X+β\n",
        "2\n",
        "​\n",
        " X\n",
        "2\n",
        " +β\n",
        "3\n",
        "​\n",
        " X\n",
        "3\n",
        " +⋯+β\n",
        "n\n",
        "​\n",
        " X\n",
        "n\n",
        " +ε"
      ],
      "metadata": {
        "id": "sk7F1UhGGFI8"
      }
    },
    {
      "cell_type": "markdown",
      "source": [
        "27.Can polynomial regression be applied to multiple variables\n",
        "- polynomial regression can be applied to multiple variables! This is often called multivariate polynomial regression or multiple polynomial regression\n"
      ],
      "metadata": {
        "id": "VSxXdkFkGOMe"
      }
    },
    {
      "cell_type": "markdown",
      "source": [
        "28.What are the limitations of polynomial regression\n",
        "- Polynomial regression offers flexibility to model non-linear relationships but must be applied with caution due to its risks of overfitting, sensitivity to outliers, multicollinearity, and interpretability challenges. Proper model selection and validation techniques are essential to mitigate these limitations"
      ],
      "metadata": {
        "id": "JnBKfFl0GkEs"
      }
    },
    {
      "cell_type": "markdown",
      "source": [
        "29.What methods can be used to evaluate model fit when selecting the degree of a polynomial\n",
        "- When choosing the appropriate degree\n",
        "𝑛\n",
        "n of a polynomial regression model, it’s important to balance model complexity and predictive performance. Several methods help evaluate the model fit and guide degree selection"
      ],
      "metadata": {
        "id": "9z7Sd8k7HGKI"
      }
    },
    {
      "cell_type": "markdown",
      "source": [
        "30.Why is visualization important in polynomial regression\n",
        "- Visualization is essential in polynomial regression for model diagnosis, selection, and communication, enabling a deeper understanding of the data and the fitted model’s behavior beyond numerical metrics alone"
      ],
      "metadata": {
        "id": "S5wOfi2JHSVZ"
      }
    },
    {
      "cell_type": "markdown",
      "source": [
        "31.How is polynomial regression implemented in Python\n",
        "- Polynomial regression can be implemented in Python using libraries such as scikit-learn, which provide tools to transform input features and fit regression models efficiently"
      ],
      "metadata": {
        "id": "F9gY6Ku7Hlnv"
      }
    }
  ]
}